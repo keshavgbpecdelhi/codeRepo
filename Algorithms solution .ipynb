{
 "cells": [
  {
   "cell_type": "code",
   "execution_count": 1,
   "metadata": {},
   "outputs": [
    {
     "name": "stdout",
     "output_type": "stream",
     "text": [
      "Length of Array:  0  Size of Array(bytes):  64\n",
      "Length of Array:  1  Size of Array(bytes):  96\n",
      "Length of Array:  2  Size of Array(bytes):  96\n",
      "Length of Array:  3  Size of Array(bytes):  96\n",
      "Length of Array:  4  Size of Array(bytes):  96\n",
      "Length of Array:  5  Size of Array(bytes):  128\n",
      "Length of Array:  6  Size of Array(bytes):  128\n",
      "Length of Array:  7  Size of Array(bytes):  128\n",
      "Length of Array:  8  Size of Array(bytes):  128\n",
      "Length of Array:  9  Size of Array(bytes):  192\n"
     ]
    }
   ],
   "source": [
    "import sys\n",
    "\n",
    "n = 10\n",
    "data = []\n",
    "for x in range(n):\n",
    "    a = len(data)\n",
    "    b = sys.getsizeof(data)\n",
    "    print('Length of Array: ', a, ' Size of Array(bytes): ',  b)\n",
    "    data.append(n)"
   ]
  },
  {
   "cell_type": "code",
   "execution_count": null,
   "metadata": {},
   "outputs": [],
   "source": []
  }
 ],
 "metadata": {
  "kernelspec": {
   "display_name": "Python 3",
   "language": "python",
   "name": "python3"
  },
  "language_info": {
   "codemirror_mode": {
    "name": "ipython",
    "version": 3
   },
   "file_extension": ".py",
   "mimetype": "text/x-python",
   "name": "python",
   "nbconvert_exporter": "python",
   "pygments_lexer": "ipython3",
   "version": "3.7.4"
  }
 },
 "nbformat": 4,
 "nbformat_minor": 2
}
