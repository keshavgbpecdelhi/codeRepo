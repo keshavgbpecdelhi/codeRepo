{
 "cells": [
  {
   "cell_type": "code",
   "execution_count": null,
   "metadata": {},
   "outputs": [
    {
     "name": "stdout",
     "output_type": "stream",
     "text": [
      "What year were you born? 2000\n",
      "Ok, your is 20\n",
      "What year were you born? 2001\n",
      "Ok, your is 19\n",
      "What year were you born? 1991\n",
      "Ok, your is 29\n",
      "What year were you born? 1993\n",
      "Ok, your is 27\n",
      "What year were you born? 1908\n",
      "Ok, your is 112\n"
     ]
    }
   ],
   "source": [
    "  \n",
    "#Input your year of birth\n",
    "#Get your age on a line\n",
    "\n",
    "while True:\n",
    "    sum = 0\n",
    "    a = input(\"What year were you born? \")\n",
    "    b = a.split()\n",
    "    for i in b:\n",
    "        c = (2020 - int(i))\n",
    "        print(\"Ok, your is\", c)\n",
    "    sum += 1"
   ]
  },
  {
   "cell_type": "code",
   "execution_count": null,
   "metadata": {},
   "outputs": [],
   "source": []
  }
 ],
 "metadata": {
  "kernelspec": {
   "display_name": "Python 3",
   "language": "python",
   "name": "python3"
  },
  "language_info": {
   "codemirror_mode": {
    "name": "ipython",
    "version": 3
   },
   "file_extension": ".py",
   "mimetype": "text/x-python",
   "name": "python",
   "nbconvert_exporter": "python",
   "pygments_lexer": "ipython3",
   "version": "3.8.3"
  }
 },
 "nbformat": 4,
 "nbformat_minor": 4
}
