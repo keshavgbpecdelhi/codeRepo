{
 "cells": [
  {
   "cell_type": "code",
   "execution_count": 1,
   "metadata": {},
   "outputs": [
    {
     "name": "stdout",
     "output_type": "stream",
     "text": [
      "Hello Angel!\n",
      "Enter a message : I love you, Angel\n",
      " You have got a new mail : I love you, Angel !\n"
     ]
    }
   ],
   "source": [
    "print('Hello Angel!')\n",
    "\n",
    "#Print Hello plus the name of the recipient.\n",
    "\n",
    "def main():\n",
    "  mail_me = input('Enter a message : ')\n",
    "  \n",
    "  print(f' You have got a new mail : {mail_me} !')\n",
    "main()  "
   ]
  },
  {
   "cell_type": "code",
   "execution_count": null,
   "metadata": {},
   "outputs": [],
   "source": []
  }
 ],
 "metadata": {
  "kernelspec": {
   "display_name": "Python 3",
   "language": "python",
   "name": "python3"
  },
  "language_info": {
   "codemirror_mode": {
    "name": "ipython",
    "version": 3
   },
   "file_extension": ".py",
   "mimetype": "text/x-python",
   "name": "python",
   "nbconvert_exporter": "python",
   "pygments_lexer": "ipython3",
   "version": "3.7.4"
  }
 },
 "nbformat": 4,
 "nbformat_minor": 2
}
